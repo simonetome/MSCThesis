{
 "cells": [
  {
   "cell_type": "code",
   "execution_count": 1,
   "metadata": {},
   "outputs": [],
   "source": [
    "import matplotlib.pyplot as plt\n",
    "from matplotlib import rcParams\n",
    "import pandas as pd \n",
    "import seaborn as sns \n",
    "import numpy as np \n",
    "from tqdm import tqdm \n",
    "import os "
   ]
  },
  {
   "cell_type": "code",
   "execution_count": 2,
   "metadata": {},
   "outputs": [],
   "source": [
    "assembly = pd.read_csv(\"../datasets/assembly_cleaned.csv\")"
   ]
  },
  {
   "cell_type": "code",
   "execution_count": 3,
   "metadata": {},
   "outputs": [
    {
     "data": {
      "text/html": [
       "<div>\n",
       "<style scoped>\n",
       "    .dataframe tbody tr th:only-of-type {\n",
       "        vertical-align: middle;\n",
       "    }\n",
       "\n",
       "    .dataframe tbody tr th {\n",
       "        vertical-align: top;\n",
       "    }\n",
       "\n",
       "    .dataframe thead th {\n",
       "        text-align: right;\n",
       "    }\n",
       "</style>\n",
       "<table border=\"1\" class=\"dataframe\">\n",
       "  <thead>\n",
       "    <tr style=\"text-align: right;\">\n",
       "      <th></th>\n",
       "      <th>Geneid</th>\n",
       "      <th>CRC0071LMX0B02204TUMR02000</th>\n",
       "      <th>CRC0269PRX0A01201TUMR01000</th>\n",
       "      <th>CRC0256PRX0A01201TUMR01000</th>\n",
       "      <th>CRC0468LMX0B03010TUMR05000</th>\n",
       "      <th>CRC0333LMX0B02201TUMR02000</th>\n",
       "      <th>CRC0481LMX0B02001TUMR01000</th>\n",
       "      <th>CRC0468LMX0B03012TUMR01000</th>\n",
       "      <th>CRC0435LMX0A03002TUMR05000</th>\n",
       "      <th>CRC0526LMX0A02001TUMR01000</th>\n",
       "      <th>...</th>\n",
       "      <th>CRC1389LMX0A02001TUMR01000</th>\n",
       "      <th>CRC1895LMX0B02003TUMR01000</th>\n",
       "      <th>CRC0102LMX0B03205TUMR12000</th>\n",
       "      <th>CRC0185LMX0B04048TUMR01000</th>\n",
       "      <th>CRC1359LMX0A02003TUMR01000</th>\n",
       "      <th>CRC0257LMX0A05006TUMR02000</th>\n",
       "      <th>CRC0619LMX0B02001TUMR01000</th>\n",
       "      <th>CRC0466PRX0A01001TUMR01000</th>\n",
       "      <th>CRC0374PRX0A01201TUMR01000</th>\n",
       "      <th>CRC0161LMO0C05026001R01000</th>\n",
       "    </tr>\n",
       "  </thead>\n",
       "  <tbody>\n",
       "    <tr>\n",
       "      <th>0</th>\n",
       "      <td>H_DDX11L1</td>\n",
       "      <td>0.0</td>\n",
       "      <td>0.0</td>\n",
       "      <td>0.0</td>\n",
       "      <td>0.0</td>\n",
       "      <td>0.0</td>\n",
       "      <td>0.0</td>\n",
       "      <td>0.0</td>\n",
       "      <td>4.0</td>\n",
       "      <td>0.0</td>\n",
       "      <td>...</td>\n",
       "      <td>0.0</td>\n",
       "      <td>0.0</td>\n",
       "      <td>0.0</td>\n",
       "      <td>0.0</td>\n",
       "      <td>0.0</td>\n",
       "      <td>0.0</td>\n",
       "      <td>0.0</td>\n",
       "      <td>0.0</td>\n",
       "      <td>0.0</td>\n",
       "      <td>0.0</td>\n",
       "    </tr>\n",
       "    <tr>\n",
       "      <th>1</th>\n",
       "      <td>H_WASH7P</td>\n",
       "      <td>30.0</td>\n",
       "      <td>58.0</td>\n",
       "      <td>20.0</td>\n",
       "      <td>3.0</td>\n",
       "      <td>11.0</td>\n",
       "      <td>6.0</td>\n",
       "      <td>2.0</td>\n",
       "      <td>75.0</td>\n",
       "      <td>57.0</td>\n",
       "      <td>...</td>\n",
       "      <td>4.0</td>\n",
       "      <td>0.0</td>\n",
       "      <td>2.0</td>\n",
       "      <td>6.0</td>\n",
       "      <td>3.0</td>\n",
       "      <td>4.0</td>\n",
       "      <td>0.0</td>\n",
       "      <td>10.0</td>\n",
       "      <td>0.0</td>\n",
       "      <td>0.0</td>\n",
       "    </tr>\n",
       "    <tr>\n",
       "      <th>2</th>\n",
       "      <td>H_MIR6859-1</td>\n",
       "      <td>68.0</td>\n",
       "      <td>5.0</td>\n",
       "      <td>23.0</td>\n",
       "      <td>4.0</td>\n",
       "      <td>17.0</td>\n",
       "      <td>14.0</td>\n",
       "      <td>5.0</td>\n",
       "      <td>54.0</td>\n",
       "      <td>8.0</td>\n",
       "      <td>...</td>\n",
       "      <td>8.0</td>\n",
       "      <td>0.0</td>\n",
       "      <td>15.0</td>\n",
       "      <td>8.0</td>\n",
       "      <td>5.0</td>\n",
       "      <td>8.0</td>\n",
       "      <td>7.0</td>\n",
       "      <td>1.0</td>\n",
       "      <td>1.0</td>\n",
       "      <td>0.0</td>\n",
       "    </tr>\n",
       "    <tr>\n",
       "      <th>3</th>\n",
       "      <td>H_MIR1302-2HG</td>\n",
       "      <td>0.0</td>\n",
       "      <td>0.0</td>\n",
       "      <td>0.0</td>\n",
       "      <td>0.0</td>\n",
       "      <td>0.0</td>\n",
       "      <td>0.0</td>\n",
       "      <td>0.0</td>\n",
       "      <td>2.0</td>\n",
       "      <td>0.0</td>\n",
       "      <td>...</td>\n",
       "      <td>0.0</td>\n",
       "      <td>0.0</td>\n",
       "      <td>0.0</td>\n",
       "      <td>0.0</td>\n",
       "      <td>0.0</td>\n",
       "      <td>0.0</td>\n",
       "      <td>0.0</td>\n",
       "      <td>0.0</td>\n",
       "      <td>0.0</td>\n",
       "      <td>0.0</td>\n",
       "    </tr>\n",
       "    <tr>\n",
       "      <th>4</th>\n",
       "      <td>H_MIR1302-2</td>\n",
       "      <td>0.0</td>\n",
       "      <td>0.0</td>\n",
       "      <td>0.0</td>\n",
       "      <td>0.0</td>\n",
       "      <td>0.0</td>\n",
       "      <td>0.0</td>\n",
       "      <td>0.0</td>\n",
       "      <td>0.0</td>\n",
       "      <td>0.0</td>\n",
       "      <td>...</td>\n",
       "      <td>0.0</td>\n",
       "      <td>0.0</td>\n",
       "      <td>0.0</td>\n",
       "      <td>0.0</td>\n",
       "      <td>0.0</td>\n",
       "      <td>0.0</td>\n",
       "      <td>0.0</td>\n",
       "      <td>0.0</td>\n",
       "      <td>0.0</td>\n",
       "      <td>0.0</td>\n",
       "    </tr>\n",
       "  </tbody>\n",
       "</table>\n",
       "<p>5 rows × 879 columns</p>\n",
       "</div>"
      ],
      "text/plain": [
       "          Geneid  CRC0071LMX0B02204TUMR02000  CRC0269PRX0A01201TUMR01000  \\\n",
       "0      H_DDX11L1                         0.0                         0.0   \n",
       "1       H_WASH7P                        30.0                        58.0   \n",
       "2    H_MIR6859-1                        68.0                         5.0   \n",
       "3  H_MIR1302-2HG                         0.0                         0.0   \n",
       "4    H_MIR1302-2                         0.0                         0.0   \n",
       "\n",
       "   CRC0256PRX0A01201TUMR01000  CRC0468LMX0B03010TUMR05000  \\\n",
       "0                         0.0                         0.0   \n",
       "1                        20.0                         3.0   \n",
       "2                        23.0                         4.0   \n",
       "3                         0.0                         0.0   \n",
       "4                         0.0                         0.0   \n",
       "\n",
       "   CRC0333LMX0B02201TUMR02000  CRC0481LMX0B02001TUMR01000  \\\n",
       "0                         0.0                         0.0   \n",
       "1                        11.0                         6.0   \n",
       "2                        17.0                        14.0   \n",
       "3                         0.0                         0.0   \n",
       "4                         0.0                         0.0   \n",
       "\n",
       "   CRC0468LMX0B03012TUMR01000  CRC0435LMX0A03002TUMR05000  \\\n",
       "0                         0.0                         4.0   \n",
       "1                         2.0                        75.0   \n",
       "2                         5.0                        54.0   \n",
       "3                         0.0                         2.0   \n",
       "4                         0.0                         0.0   \n",
       "\n",
       "   CRC0526LMX0A02001TUMR01000  ...  CRC1389LMX0A02001TUMR01000  \\\n",
       "0                         0.0  ...                         0.0   \n",
       "1                        57.0  ...                         4.0   \n",
       "2                         8.0  ...                         8.0   \n",
       "3                         0.0  ...                         0.0   \n",
       "4                         0.0  ...                         0.0   \n",
       "\n",
       "   CRC1895LMX0B02003TUMR01000  CRC0102LMX0B03205TUMR12000  \\\n",
       "0                         0.0                         0.0   \n",
       "1                         0.0                         2.0   \n",
       "2                         0.0                        15.0   \n",
       "3                         0.0                         0.0   \n",
       "4                         0.0                         0.0   \n",
       "\n",
       "   CRC0185LMX0B04048TUMR01000  CRC1359LMX0A02003TUMR01000  \\\n",
       "0                         0.0                         0.0   \n",
       "1                         6.0                         3.0   \n",
       "2                         8.0                         5.0   \n",
       "3                         0.0                         0.0   \n",
       "4                         0.0                         0.0   \n",
       "\n",
       "   CRC0257LMX0A05006TUMR02000  CRC0619LMX0B02001TUMR01000  \\\n",
       "0                         0.0                         0.0   \n",
       "1                         4.0                         0.0   \n",
       "2                         8.0                         7.0   \n",
       "3                         0.0                         0.0   \n",
       "4                         0.0                         0.0   \n",
       "\n",
       "   CRC0466PRX0A01001TUMR01000  CRC0374PRX0A01201TUMR01000  \\\n",
       "0                         0.0                         0.0   \n",
       "1                        10.0                         0.0   \n",
       "2                         1.0                         1.0   \n",
       "3                         0.0                         0.0   \n",
       "4                         0.0                         0.0   \n",
       "\n",
       "   CRC0161LMO0C05026001R01000  \n",
       "0                         0.0  \n",
       "1                         0.0  \n",
       "2                         0.0  \n",
       "3                         0.0  \n",
       "4                         0.0  \n",
       "\n",
       "[5 rows x 879 columns]"
      ]
     },
     "execution_count": 3,
     "metadata": {},
     "output_type": "execute_result"
    }
   ],
   "source": [
    "assembly = assembly.drop([\"Length\"], axis = 1)\n",
    "assembly.head()"
   ]
  },
  {
   "cell_type": "code",
   "execution_count": 4,
   "metadata": {},
   "outputs": [
    {
     "name": "stdout",
     "output_type": "stream",
     "text": [
      "Human genes number: 56609\n",
      "Murine genes number: 53278\n"
     ]
    }
   ],
   "source": [
    "genes = assembly['Geneid'].to_list()\n",
    "human_genes = [g[2:] for g in genes if g[0] == 'H']\n",
    "murine_genes = [g[2:] for g in genes if g[0] == 'M']\n",
    "\n",
    "print(f\"Human genes number: {len(human_genes)}\")\n",
    "print(f\"Murine genes number: {len(murine_genes)}\")"
   ]
  },
  {
   "cell_type": "markdown",
   "metadata": {},
   "source": [
    "<h1>Protein encoding genes</h1>"
   ]
  },
  {
   "cell_type": "code",
   "execution_count": 5,
   "metadata": {},
   "outputs": [],
   "source": [
    "# dataset from https://ftp.ncbi.nih.gov/gene/DATA/GENE_INFO/Mammalia/\n",
    "\n",
    "# GENE - NCBI https://www.ncbi.nlm.nih.gov/gene/\n",
    "\n",
    "human_genes_info = pd.read_csv(\"Homo_sapiens.gene_info\", sep = \"\\t\", low_memory = False)\n",
    "murine_genes_info = pd.read_csv(\"Mus_musculus.gene_info\", sep = \"\\t\", low_memory = False)"
   ]
  },
  {
   "cell_type": "code",
   "execution_count": 6,
   "metadata": {},
   "outputs": [
    {
     "name": "stdout",
     "output_type": "stream",
     "text": [
      "human protein coding genes 18580\n",
      "Murine protein coding genes 21934\n"
     ]
    }
   ],
   "source": [
    "# Human\n",
    "\n",
    "protein_coding_genes_ = human_genes_info[human_genes_info['type_of_gene'] == 'protein-coding']['Symbol'].to_list()\n",
    "human_protein_coding_genes = [h for h in human_genes if h in protein_coding_genes_]\n",
    "print(f\"human protein coding genes {len(human_protein_coding_genes)}\")\n",
    "\n",
    "# Murine \n",
    "\n",
    "protein_coding_genes_ = murine_genes_info[murine_genes_info['type_of_gene'] == 'protein-coding']['Symbol'].to_list()\n",
    "murine_protein_coding_genes = [h for h in murine_genes if h in protein_coding_genes_]\n",
    "print(f\"Murine protein coding genes {len(murine_protein_coding_genes)}\")\n"
   ]
  },
  {
   "cell_type": "code",
   "execution_count": 7,
   "metadata": {},
   "outputs": [],
   "source": [
    "files = os.listdir()\n",
    "if \"human_protein_coding_genes.txt\" in files and \"murine_protein_coding_genes.txt\" in files:\n",
    "    os.remove(\"human_protein_coding_genes.txt\")\n",
    "    os.remove(\"murine_protein_coding_genes.txt\")\n",
    "\n",
    "f = open(\"human_protein_coding_genes.txt\",\"a\")\n",
    "f.write(\"GeneId\\x0a\")\n",
    "for g in human_protein_coding_genes:\n",
    "    f.write(g+\"\\x0a\")\n",
    "f.close()\n",
    "\n",
    "f = open(\"murine_protein_coding_genes.txt\",\"a\")\n",
    "f.write(\"GeneId\\x0a\")\n",
    "for g in murine_protein_coding_genes:\n",
    "    f.write(g+\"\\x0a\")\n",
    "f.close()"
   ]
  },
  {
   "cell_type": "markdown",
   "metadata": {},
   "source": [
    "<h1>Gene count and check for not expressed ones</h1>\n",
    "<h3>everything done is made gene-wise</h3>"
   ]
  },
  {
   "cell_type": "code",
   "execution_count": 8,
   "metadata": {},
   "outputs": [
    {
     "name": "stderr",
     "output_type": "stream",
     "text": [
      "109887it [00:49, 2242.07it/s]\n"
     ]
    }
   ],
   "source": [
    "# average counts for each gene \n",
    "# always separate human and murine \n",
    "\n",
    "samples = assembly.columns.to_list()[1:]\n",
    "\n",
    "human_counts = []\n",
    "murine_counts = []\n",
    "\n",
    "for index,row in tqdm(assembly.iterrows()):\n",
    "    count = sum(row[samples])\n",
    "    if row['Geneid'][0] == 'H':\n",
    "        human_counts.append(count)\n",
    "    else:\n",
    "        murine_counts.append(count)\n",
    "\n",
    "\n"
   ]
  },
  {
   "cell_type": "code",
   "execution_count": 9,
   "metadata": {},
   "outputs": [
    {
     "data": {
      "text/plain": [
       "Text(0, 0.5, 'log10(count + 1)')"
      ]
     },
     "execution_count": 9,
     "metadata": {},
     "output_type": "execute_result"
    },
    {
     "data": {
      "image/png": "[encoded data removed]",
      "text/plain": [
       "<Figure size 360x360 with 1 Axes>"
      ]
     },
     "metadata": {
      "needs_background": "light"
     },
     "output_type": "display_data"
    }
   ],
   "source": [
    "from math import log10\n",
    "\n",
    "human_counts.sort()\n",
    "murine_counts.sort()\n",
    "\n",
    "fig, ax = plt.subplots(figsize=(5,5),layout=\"constrained\")\n",
    "x1 = list(range(len(human_counts)))\n",
    "y1 = [log10(h+1.) for h in human_counts]\n",
    "\n",
    "x2 = list(range(len(murine_counts)))\n",
    "y2 = [log10(m+1.) for m in murine_counts]\n",
    "human_line = ax.scatter(x1,y1,s=0.2, color = \"blue\",label=\"human\")\n",
    "murine_line = ax.scatter(x2,y2,s=0.2, color = \"green\", label=\"murine\")\n",
    "\n",
    "lines = [human_line,murine_line]\n",
    "\n",
    "lgnd = plt.legend(loc=\"upper left\", scatterpoints=1, fontsize=10)\n",
    "lgnd.legendHandles[0]._sizes = [30]\n",
    "lgnd.legendHandles[1]._sizes = [30]\n",
    "\n",
    "ax.set_title(\"Counts for genes\")\n",
    "ax.set_xlabel(\"genes\")\n",
    "ax.set_ylabel(\"log10(count + 1)\")\n",
    "\n",
    " "
   ]
  },
  {
   "cell_type": "code",
   "execution_count": 10,
   "metadata": {},
   "outputs": [],
   "source": [
    "# there are genes that are inexpressed \n",
    "# how many and who? \n",
    "\n",
    "assembly_ = assembly.set_index(\"Geneid\")\n",
    "counts = pd.DataFrame(assembly_.sum(axis = 'columns',numeric_only = True))\n",
    "counts.columns = ['value']"
   ]
  },
  {
   "cell_type": "code",
   "execution_count": 11,
   "metadata": {},
   "outputs": [
    {
     "name": "stdout",
     "output_type": "stream",
     "text": [
      "Human inexpressed in the dataset are: 2972\n",
      "Murine inexpressed in the dataset are: 8414\n"
     ]
    }
   ],
   "source": [
    "inexpressed_genes = counts[counts['value'] == 0].index.to_list()\n",
    "human_inexpressed = [g for g in inexpressed_genes if g[0] == 'H']\n",
    "murine_inexpressed = [g for g in inexpressed_genes if g[0] == 'M']\n",
    "\n",
    "print(f\"Human inexpressed in the dataset are: {len(human_inexpressed)}\")\n",
    "print(f\"Murine inexpressed in the dataset are: {len(murine_inexpressed)}\")"
   ]
  },
  {
   "cell_type": "code",
   "execution_count": 12,
   "metadata": {},
   "outputs": [
    {
     "name": "stderr",
     "output_type": "stream",
     "text": [
      "109887it [00:52, 2085.42it/s]"
     ]
    },
    {
     "name": "stdout",
     "output_type": "stream",
     "text": [
      "There are 56904 low expressed genes\n",
      "There are 24905 HUMAN low expressed genes\n",
      "There are 31999 MURINE low expressed genes\n"
     ]
    },
    {
     "name": "stderr",
     "output_type": "stream",
     "text": [
      "\n"
     ]
    }
   ],
   "source": [
    "\n",
    "low_expressed_genes = []\n",
    "samples = assembly.columns.to_list()[1:]\n",
    "threshold = int(0.2*len(samples))\n",
    "\n",
    "for index,row in tqdm(assembly.iterrows()):\n",
    "    values = row[samples].to_list()\n",
    "    if(np.count_nonzero(values) < threshold):\n",
    "        low_expressed_genes.append(row['Geneid'])\n",
    "\n",
    "h_low_expressed = [g for g in low_expressed_genes if g[0] == 'H']\n",
    "m_low_expressed = [g for g in low_expressed_genes if g[0] == 'M']\n",
    "\n",
    "print(f\"There are {len(low_expressed_genes)} low expressed genes\")\n",
    "print(f\"There are {len(h_low_expressed)} HUMAN low expressed genes\")\n",
    "print(f\"There are {len(m_low_expressed)} MURINE low expressed genes\")\n"
   ]
  },
  {
   "cell_type": "code",
   "execution_count": 13,
   "metadata": {},
   "outputs": [],
   "source": [
    "files = os.listdir()\n",
    "if \"human_inexpressed.txt\" in files and \"murine_inexpressed.txt\" in files:\n",
    "    os.remove(\"human_inexpressed.txt\")\n",
    "    os.remove(\"murine_inexpressed.txt\")\n",
    "\n",
    "f = open(\"human_inexpressed.txt\",\"a\")\n",
    "f.write(\"GeneId\\x0a\")\n",
    "for g in human_inexpressed:\n",
    "    f.write(g+\"\\x0a\")\n",
    "f.close()\n",
    "\n",
    "f = open(\"murine_inexpressed.txt\",\"a\")\n",
    "f.write(\"GeneId\\x0a\")\n",
    "for g in murine_inexpressed:\n",
    "    f.write(g+\"\\x0a\")\n",
    "f.close()"
   ]
  },
  {
   "cell_type": "code",
   "execution_count": 14,
   "metadata": {},
   "outputs": [],
   "source": [
    "files = os.listdir()\n",
    "if \"human_lowexpressed.txt\" in files and \"murine_lowexpressed.txt\" in files:\n",
    "    os.remove(\"human_lowexpressed.txt\")\n",
    "    os.remove(\"murine_lowexpressed.txt\")\n",
    "\n",
    "f = open(\"human_lowexpressed.txt\",\"a\")\n",
    "f.write(\"GeneId\\x0a\")\n",
    "for g in h_low_expressed:\n",
    "    f.write(g+\"\\x0a\")\n",
    "f.close()\n",
    "\n",
    "f = open(\"murine_lowexpressed.txt\",\"a\")\n",
    "f.write(\"GeneId\\x0a\")\n",
    "for g in m_low_expressed:\n",
    "    f.write(g+\"\\x0a\")\n",
    "f.close()"
   ]
  },
  {
   "cell_type": "code",
   "execution_count": 15,
   "metadata": {},
   "outputs": [
    {
     "name": "stdout",
     "output_type": "stream",
     "text": [
      "Average human counts: 559828.820841209\n",
      "Average murine counts: 79268.7678403844\n",
      "Median human counts: 1096.0\n",
      "Median murine counts: 83.0\n",
      "Max human counts: 721457709.0\n",
      "Max murine counts: 34953429.0\n"
     ]
    }
   ],
   "source": [
    "# stats \n",
    "\n",
    "avg_human_counts = np.average(human_counts)\n",
    "avg_murine_counts = np.average(murine_counts)\n",
    "median_human_counts = np.median(human_counts)\n",
    "median_murine_counts =  np.median(murine_counts)\n",
    "max_human_counts = np.max(human_counts)\n",
    "max_murine_counts =  np.max(murine_counts)\n",
    "\n",
    "print(f\"Average human counts: {avg_human_counts}\")\n",
    "print(f\"Average murine counts: {avg_murine_counts}\")\n",
    "print(f\"Median human counts: {median_human_counts}\")\n",
    "print(f\"Median murine counts: {median_murine_counts}\")\n",
    "print(f\"Max human counts: {max_human_counts}\")\n",
    "print(f\"Max murine counts: {max_murine_counts}\")"
   ]
  },
  {
   "cell_type": "markdown",
   "metadata": {},
   "source": [
    "<h1>Counts sample-wise</h1>"
   ]
  },
  {
   "cell_type": "code",
   "execution_count": 16,
   "metadata": {},
   "outputs": [],
   "source": [
    "genes = assembly['Geneid'].to_list()\n",
    "human_genes = [g for g in genes if g[0] == 'H']\n",
    "murine_genes = [g for g in genes if g[0] == 'M']\n",
    "\n",
    "human_assembly = assembly[assembly['Geneid'].isin(human_genes)]\n",
    "murine_assembly = assembly[assembly['Geneid'].isin(murine_genes)]\n",
    "\n",
    "human_sample_counts = pd.DataFrame(human_assembly.sum(axis = 'rows',numeric_only = True))\n",
    "murine_sample_counts =  pd.DataFrame(murine_assembly.sum(axis = 'rows',numeric_only = True))\n",
    "\n",
    "human_sample_counts.columns = [\"value\"]\n",
    "murine_sample_counts.columns = [\"value\"]"
   ]
  },
  {
   "cell_type": "code",
   "execution_count": 17,
   "metadata": {},
   "outputs": [
    {
     "data": {
      "text/plain": [
       "Text(0, 0.5, 'count')"
      ]
     },
     "execution_count": 17,
     "metadata": {},
     "output_type": "execute_result"
    },
    {
     "data": {
      "image/png": "[encoded data removed]",
      "text/plain": [
       "<Figure size 360x360 with 1 Axes>"
      ]
     },
     "metadata": {
      "needs_background": "light"
     },
     "output_type": "display_data"
    }
   ],
   "source": [
    "from math import log10\n",
    "\n",
    "h_counts = human_sample_counts['value'].to_list()\n",
    "m_counts = murine_sample_counts['value'].to_list()\n",
    "\n",
    "h_counts.sort()\n",
    "m_counts.sort()\n",
    "\n",
    "fig, ax = plt.subplots(figsize=(5,5),layout=\"constrained\")\n",
    "x1 = list(range(len(h_counts)))\n",
    "y1 = [h for h in h_counts]\n",
    "\n",
    "x2 = list(range(len(m_counts)))\n",
    "y2 = [m for m in m_counts]\n",
    "human_line = ax.scatter(x1,y1,s=0.2, color = \"blue\",label=\"human\")\n",
    "murine_line = ax.scatter(x2,y2,s=0.2, color = \"green\", label=\"murine\")\n",
    "\n",
    "lines = [human_line,murine_line]\n",
    "\n",
    "lgnd = plt.legend(loc=\"upper left\", scatterpoints=1, fontsize=10)\n",
    "lgnd.legendHandles[0]._sizes = [30]\n",
    "lgnd.legendHandles[1]._sizes = [30]\n",
    "\n",
    "ax.set_title(\"Counts for sample\")\n",
    "ax.set_xlabel(\"sample\")\n",
    "ax.set_ylabel(\"count\")\n",
    "\n",
    "# NOTE: \n",
    "# both human and murine counts are sorted, thus for a single 'x' value samples could be different "
   ]
  },
  {
   "cell_type": "code",
   "execution_count": 18,
   "metadata": {},
   "outputs": [
    {
     "name": "stdout",
     "output_type": "stream",
     "text": [
      "Average human counts: 36094931.3428246\n",
      "Average murine counts: 4810115.504555808\n",
      "Median human counts: 38552912.0\n",
      "Median murine counts: 3111618.5\n",
      "Max human counts: 152296806.0\n",
      "Max murine counts: 50126822.0\n",
      "Min human counts: 420.0\n",
      "Min murine counts: 6.0\n"
     ]
    }
   ],
   "source": [
    "avg_human_counts = np.average(h_counts)\n",
    "avg_murine_counts = np.average(m_counts)\n",
    "median_human_counts = np.median(h_counts)\n",
    "median_murine_counts =  np.median(m_counts)\n",
    "max_human_counts = np.max(h_counts)\n",
    "max_murine_counts =  np.max(m_counts)\n",
    "min_human_counts = np.min(h_counts)\n",
    "min_murine_counts =  np.min(m_counts)\n",
    "\n",
    "print(f\"Average human counts: {avg_human_counts}\")\n",
    "print(f\"Average murine counts: {avg_murine_counts}\")\n",
    "print(f\"Median human counts: {median_human_counts}\")\n",
    "print(f\"Median murine counts: {median_murine_counts}\")\n",
    "print(f\"Max human counts: {max_human_counts}\")\n",
    "print(f\"Max murine counts: {max_murine_counts}\")\n",
    "print(f\"Min human counts: {min_human_counts}\")\n",
    "print(f\"Min murine counts: {min_murine_counts}\")"
   ]
  },
  {
   "cell_type": "code",
   "execution_count": 19,
   "metadata": {},
   "outputs": [
    {
     "name": "stdout",
     "output_type": "stream",
     "text": [
      "Samples with less than 10M human-reads 12\n"
     ]
    }
   ],
   "source": [
    "# samples with less than 10M counts \n",
    "\n",
    "samples_to_filter = human_sample_counts[human_sample_counts.value < 10e6].index.to_list()\n",
    "print(f\"Samples with less than 10M human-reads {len(samples_to_filter)}\")\n",
    "\n",
    "files = os.listdir()\n",
    "if \"sample_to_filter.txt\" in files :\n",
    "    os.remove(\"sample_to_filter.txt\")\n",
    "\n",
    "f = open(\"sample_to_filter.txt\",\"a\")\n",
    "f.write(\"sample\\x0a\")\n",
    "for g in samples_to_filter:\n",
    "    f.write(g+\"\\x0a\")\n",
    "f.close()\n"
   ]
  },
  {
   "cell_type": "code",
   "execution_count": 21,
   "metadata": {},
   "outputs": [],
   "source": [
    "sample_info = pd.read_csv(\"../sampleinfo.csv\")"
   ]
  },
  {
   "cell_type": "code",
   "execution_count": 23,
   "metadata": {},
   "outputs": [
    {
     "data": {
      "text/html": [
       "<div>\n",
       "<style scoped>\n",
       "    .dataframe tbody tr th:only-of-type {\n",
       "        vertical-align: middle;\n",
       "    }\n",
       "\n",
       "    .dataframe tbody tr th {\n",
       "        vertical-align: top;\n",
       "    }\n",
       "\n",
       "    .dataframe thead th {\n",
       "        text-align: right;\n",
       "    }\n",
       "</style>\n",
       "<table border=\"1\" class=\"dataframe\">\n",
       "  <thead>\n",
       "    <tr style=\"text-align: right;\">\n",
       "      <th></th>\n",
       "      <th>SampleName</th>\n",
       "      <th>Type</th>\n",
       "    </tr>\n",
       "  </thead>\n",
       "  <tbody>\n",
       "    <tr>\n",
       "      <th>0</th>\n",
       "      <td>CRC0071LMX0B02204TUMR02000</td>\n",
       "      <td>LMX</td>\n",
       "    </tr>\n",
       "    <tr>\n",
       "      <th>1</th>\n",
       "      <td>CRC0269PRX0A01201TUMR01000</td>\n",
       "      <td>PRX</td>\n",
       "    </tr>\n",
       "    <tr>\n",
       "      <th>2</th>\n",
       "      <td>CRC0256PRX0A01201TUMR01000</td>\n",
       "      <td>PRX</td>\n",
       "    </tr>\n",
       "    <tr>\n",
       "      <th>3</th>\n",
       "      <td>CRC0468LMX0B03010TUMR05000</td>\n",
       "      <td>LMX</td>\n",
       "    </tr>\n",
       "    <tr>\n",
       "      <th>4</th>\n",
       "      <td>CRC0333LMX0B02201TUMR02000</td>\n",
       "      <td>LMX</td>\n",
       "    </tr>\n",
       "  </tbody>\n",
       "</table>\n",
       "</div>"
      ],
      "text/plain": [
       "                   SampleName Type\n",
       "0  CRC0071LMX0B02204TUMR02000  LMX\n",
       "1  CRC0269PRX0A01201TUMR01000  PRX\n",
       "2  CRC0256PRX0A01201TUMR01000  PRX\n",
       "3  CRC0468LMX0B03010TUMR05000  LMX\n",
       "4  CRC0333LMX0B02201TUMR02000  LMX"
      ]
     },
     "execution_count": 23,
     "metadata": {},
     "output_type": "execute_result"
    }
   ],
   "source": [
    "sample_info.head()"
   ]
  },
  {
   "cell_type": "code",
   "execution_count": 27,
   "metadata": {},
   "outputs": [
    {
     "data": {
      "text/plain": [
       "<AxesSubplot:xlabel='Type', ylabel='count'>"
      ]
     },
     "execution_count": 27,
     "metadata": {},
     "output_type": "execute_result"
    },
    {
     "data": {
      "image/png": "[encoded data removed]",
      "text/plain": [
       "<Figure size 432x288 with 1 Axes>"
      ]
     },
     "metadata": {
      "needs_background": "light"
     },
     "output_type": "display_data"
    }
   ],
   "source": [
    "sns.countplot(x=\"Type\", data=sample_info)"
   ]
  },
  {
   "cell_type": "code",
   "execution_count": 31,
   "metadata": {},
   "outputs": [
    {
     "name": "stdout",
     "output_type": "stream",
     "text": [
      "LMX counts: 663\n",
      "PRX counts: 158\n",
      "PMX counts: 1\n",
      "LMO counts: 22\n",
      "LMH counts: 33\n",
      "PRH counts: 1\n"
     ]
    }
   ],
   "source": [
    "lmx_samples = sample_info[sample_info['Type'] == 'LMX'].index.to_list()\n",
    "prx_samples = sample_info[sample_info['Type'] == 'PRX'].index.to_list()\n",
    "pmx_samples = sample_info[sample_info['Type'] == 'PMX'].index.to_list()\n",
    "lmo_samples = sample_info[sample_info['Type'] == 'LMO'].index.to_list()\n",
    "lmh_samples = sample_info[sample_info['Type'] == 'LMH'].index.to_list()\n",
    "prh_samples = sample_info[sample_info['Type'] == 'PRH'].index.to_list()\n",
    "\n",
    "print(f\"LMX counts: {len(lmx_samples)}\")\n",
    "print(f\"PRX counts: {len(prx_samples)}\")\n",
    "print(f\"PMX counts: {len(pmx_samples)}\")\n",
    "print(f\"LMO counts: {len(lmo_samples)}\")\n",
    "print(f\"LMH counts: {len(lmh_samples)}\")\n",
    "print(f\"PRH counts: {len(prh_samples)}\")\n"
   ]
  },
  {
   "cell_type": "code",
   "execution_count": 32,
   "metadata": {},
   "outputs": [
    {
     "data": {
      "text/plain": [
       "878"
      ]
     },
     "execution_count": 32,
     "metadata": {},
     "output_type": "execute_result"
    }
   ],
   "source": [
    "663+158+1+22+33+1"
   ]
  },
  {
   "cell_type": "code",
   "execution_count": null,
   "metadata": {},
   "outputs": [],
   "source": []
  }
 ],
 "metadata": {
  "interpreter": {
   "hash": "31f2aee4e71d21fbe5cf8b01ff0e069b9275f58929596ceb00d14d90e3e16cd6"
  },
  "kernelspec": {
   "display_name": "Python 3.9.7 64-bit",
   "language": "python",
   "name": "python3"
  },
  "language_info": {
   "codemirror_mode": {
    "name": "ipython",
    "version": 3
   },
   "file_extension": ".py",
   "mimetype": "text/x-python",
   "name": "python",
   "nbconvert_exporter": "python",
   "pygments_lexer": "ipython3",
   "version": "3.9.7"
  },
  "orig_nbformat": 4
 },
 "nbformat": 4,
 "nbformat_minor": 2
}
